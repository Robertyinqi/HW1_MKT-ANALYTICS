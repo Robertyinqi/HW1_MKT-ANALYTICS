{
 "cells": [
  {
   "cell_type": "code",
   "execution_count": 2,
   "id": "788cb39c",
   "metadata": {},
   "outputs": [],
   "source": [
    "import pandas as pd\n",
    "import numpy as np\n",
    "import math\n",
    "from scipy import stats"
   ]
  },
  {
   "cell_type": "markdown",
   "id": "ef03f7e1",
   "metadata": {},
   "source": [
    "# Q1"
   ]
  },
  {
   "cell_type": "code",
   "execution_count": 68,
   "id": "ff99aeb2",
   "metadata": {},
   "outputs": [],
   "source": [
    "df = pd.read_csv('AB_test_data.csv')"
   ]
  },
  {
   "cell_type": "code",
   "execution_count": 69,
   "id": "e6a6ce5e",
   "metadata": {},
   "outputs": [
    {
     "data": {
      "text/html": [
       "<div>\n",
       "<style scoped>\n",
       "    .dataframe tbody tr th:only-of-type {\n",
       "        vertical-align: middle;\n",
       "    }\n",
       "\n",
       "    .dataframe tbody tr th {\n",
       "        vertical-align: top;\n",
       "    }\n",
       "\n",
       "    .dataframe thead th {\n",
       "        text-align: right;\n",
       "    }\n",
       "</style>\n",
       "<table border=\"1\" class=\"dataframe\">\n",
       "  <thead>\n",
       "    <tr style=\"text-align: right;\">\n",
       "      <th></th>\n",
       "      <th>purchase_TF</th>\n",
       "      <th>Variant</th>\n",
       "      <th>date</th>\n",
       "      <th>id</th>\n",
       "    </tr>\n",
       "  </thead>\n",
       "  <tbody>\n",
       "    <tr>\n",
       "      <th>0</th>\n",
       "      <td>False</td>\n",
       "      <td>A</td>\n",
       "      <td>2019-11-08</td>\n",
       "      <td>0x25b44a</td>\n",
       "    </tr>\n",
       "    <tr>\n",
       "      <th>1</th>\n",
       "      <td>False</td>\n",
       "      <td>B</td>\n",
       "      <td>2020-08-27</td>\n",
       "      <td>0x46271e</td>\n",
       "    </tr>\n",
       "    <tr>\n",
       "      <th>2</th>\n",
       "      <td>False</td>\n",
       "      <td>A</td>\n",
       "      <td>2020-06-11</td>\n",
       "      <td>0x80b8f1</td>\n",
       "    </tr>\n",
       "    <tr>\n",
       "      <th>3</th>\n",
       "      <td>False</td>\n",
       "      <td>B</td>\n",
       "      <td>2020-08-22</td>\n",
       "      <td>0x8d736d</td>\n",
       "    </tr>\n",
       "    <tr>\n",
       "      <th>4</th>\n",
       "      <td>False</td>\n",
       "      <td>A</td>\n",
       "      <td>2020-08-05</td>\n",
       "      <td>0x96c9c8</td>\n",
       "    </tr>\n",
       "    <tr>\n",
       "      <th>...</th>\n",
       "      <td>...</td>\n",
       "      <td>...</td>\n",
       "      <td>...</td>\n",
       "      <td>...</td>\n",
       "    </tr>\n",
       "    <tr>\n",
       "      <th>129995</th>\n",
       "      <td>False</td>\n",
       "      <td>A</td>\n",
       "      <td>2020-07-23</td>\n",
       "      <td>0x4089c2</td>\n",
       "    </tr>\n",
       "    <tr>\n",
       "      <th>129996</th>\n",
       "      <td>False</td>\n",
       "      <td>A</td>\n",
       "      <td>2020-06-24</td>\n",
       "      <td>0x6a5e3a</td>\n",
       "    </tr>\n",
       "    <tr>\n",
       "      <th>129997</th>\n",
       "      <td>False</td>\n",
       "      <td>A</td>\n",
       "      <td>2019-10-12</td>\n",
       "      <td>0x95e302</td>\n",
       "    </tr>\n",
       "    <tr>\n",
       "      <th>129998</th>\n",
       "      <td>False</td>\n",
       "      <td>A</td>\n",
       "      <td>2020-03-18</td>\n",
       "      <td>0x7c4afa</td>\n",
       "    </tr>\n",
       "    <tr>\n",
       "      <th>129999</th>\n",
       "      <td>False</td>\n",
       "      <td>A</td>\n",
       "      <td>2019-12-09</td>\n",
       "      <td>0x380071</td>\n",
       "    </tr>\n",
       "  </tbody>\n",
       "</table>\n",
       "<p>130000 rows × 4 columns</p>\n",
       "</div>"
      ],
      "text/plain": [
       "        purchase_TF Variant        date        id\n",
       "0             False       A  2019-11-08  0x25b44a\n",
       "1             False       B  2020-08-27  0x46271e\n",
       "2             False       A  2020-06-11  0x80b8f1\n",
       "3             False       B  2020-08-22  0x8d736d\n",
       "4             False       A  2020-08-05  0x96c9c8\n",
       "...             ...     ...         ...       ...\n",
       "129995        False       A  2020-07-23  0x4089c2\n",
       "129996        False       A  2020-06-24  0x6a5e3a\n",
       "129997        False       A  2019-10-12  0x95e302\n",
       "129998        False       A  2020-03-18  0x7c4afa\n",
       "129999        False       A  2019-12-09  0x380071\n",
       "\n",
       "[130000 rows x 4 columns]"
      ]
     },
     "execution_count": 69,
     "metadata": {},
     "output_type": "execute_result"
    }
   ],
   "source": [
    "df"
   ]
  },
  {
   "cell_type": "code",
   "execution_count": 71,
   "id": "12aecc43",
   "metadata": {},
   "outputs": [],
   "source": [
    "df['purchase_TF'] = df['purchase_TF'].astype(str)"
   ]
  },
  {
   "cell_type": "code",
   "execution_count": 72,
   "id": "d59a94c6",
   "metadata": {},
   "outputs": [],
   "source": [
    "df['purchase_TF'] = df['purchase_TF'].map(\n",
    "                   {\"True\":1 ,\"False\":0})"
   ]
  },
  {
   "cell_type": "code",
   "execution_count": 73,
   "id": "e5b2b94c",
   "metadata": {},
   "outputs": [
    {
     "data": {
      "text/html": [
       "<div>\n",
       "<style scoped>\n",
       "    .dataframe tbody tr th:only-of-type {\n",
       "        vertical-align: middle;\n",
       "    }\n",
       "\n",
       "    .dataframe tbody tr th {\n",
       "        vertical-align: top;\n",
       "    }\n",
       "\n",
       "    .dataframe thead th {\n",
       "        text-align: right;\n",
       "    }\n",
       "</style>\n",
       "<table border=\"1\" class=\"dataframe\">\n",
       "  <thead>\n",
       "    <tr style=\"text-align: right;\">\n",
       "      <th></th>\n",
       "      <th>purchase_TF</th>\n",
       "      <th>Variant</th>\n",
       "      <th>date</th>\n",
       "      <th>id</th>\n",
       "    </tr>\n",
       "  </thead>\n",
       "  <tbody>\n",
       "    <tr>\n",
       "      <th>0</th>\n",
       "      <td>0</td>\n",
       "      <td>A</td>\n",
       "      <td>2019-11-08</td>\n",
       "      <td>0x25b44a</td>\n",
       "    </tr>\n",
       "    <tr>\n",
       "      <th>1</th>\n",
       "      <td>0</td>\n",
       "      <td>B</td>\n",
       "      <td>2020-08-27</td>\n",
       "      <td>0x46271e</td>\n",
       "    </tr>\n",
       "    <tr>\n",
       "      <th>2</th>\n",
       "      <td>0</td>\n",
       "      <td>A</td>\n",
       "      <td>2020-06-11</td>\n",
       "      <td>0x80b8f1</td>\n",
       "    </tr>\n",
       "    <tr>\n",
       "      <th>3</th>\n",
       "      <td>0</td>\n",
       "      <td>B</td>\n",
       "      <td>2020-08-22</td>\n",
       "      <td>0x8d736d</td>\n",
       "    </tr>\n",
       "    <tr>\n",
       "      <th>4</th>\n",
       "      <td>0</td>\n",
       "      <td>A</td>\n",
       "      <td>2020-08-05</td>\n",
       "      <td>0x96c9c8</td>\n",
       "    </tr>\n",
       "    <tr>\n",
       "      <th>...</th>\n",
       "      <td>...</td>\n",
       "      <td>...</td>\n",
       "      <td>...</td>\n",
       "      <td>...</td>\n",
       "    </tr>\n",
       "    <tr>\n",
       "      <th>129995</th>\n",
       "      <td>0</td>\n",
       "      <td>A</td>\n",
       "      <td>2020-07-23</td>\n",
       "      <td>0x4089c2</td>\n",
       "    </tr>\n",
       "    <tr>\n",
       "      <th>129996</th>\n",
       "      <td>0</td>\n",
       "      <td>A</td>\n",
       "      <td>2020-06-24</td>\n",
       "      <td>0x6a5e3a</td>\n",
       "    </tr>\n",
       "    <tr>\n",
       "      <th>129997</th>\n",
       "      <td>0</td>\n",
       "      <td>A</td>\n",
       "      <td>2019-10-12</td>\n",
       "      <td>0x95e302</td>\n",
       "    </tr>\n",
       "    <tr>\n",
       "      <th>129998</th>\n",
       "      <td>0</td>\n",
       "      <td>A</td>\n",
       "      <td>2020-03-18</td>\n",
       "      <td>0x7c4afa</td>\n",
       "    </tr>\n",
       "    <tr>\n",
       "      <th>129999</th>\n",
       "      <td>0</td>\n",
       "      <td>A</td>\n",
       "      <td>2019-12-09</td>\n",
       "      <td>0x380071</td>\n",
       "    </tr>\n",
       "  </tbody>\n",
       "</table>\n",
       "<p>130000 rows × 4 columns</p>\n",
       "</div>"
      ],
      "text/plain": [
       "        purchase_TF Variant        date        id\n",
       "0                 0       A  2019-11-08  0x25b44a\n",
       "1                 0       B  2020-08-27  0x46271e\n",
       "2                 0       A  2020-06-11  0x80b8f1\n",
       "3                 0       B  2020-08-22  0x8d736d\n",
       "4                 0       A  2020-08-05  0x96c9c8\n",
       "...             ...     ...         ...       ...\n",
       "129995            0       A  2020-07-23  0x4089c2\n",
       "129996            0       A  2020-06-24  0x6a5e3a\n",
       "129997            0       A  2019-10-12  0x95e302\n",
       "129998            0       A  2020-03-18  0x7c4afa\n",
       "129999            0       A  2019-12-09  0x380071\n",
       "\n",
       "[130000 rows x 4 columns]"
      ]
     },
     "execution_count": 73,
     "metadata": {},
     "output_type": "execute_result"
    }
   ],
   "source": [
    "df"
   ]
  },
  {
   "cell_type": "code",
   "execution_count": null,
   "id": "975f255e",
   "metadata": {},
   "outputs": [],
   "source": [
    "# H0: P_A = P_B\n",
    "# H1: P_A < P_B"
   ]
  },
  {
   "cell_type": "code",
   "execution_count": 84,
   "id": "41a5bd6d",
   "metadata": {},
   "outputs": [
    {
     "name": "stdout",
     "output_type": "stream",
     "text": [
      "p-value for single sided test: 0.0000000844\n"
     ]
    }
   ],
   "source": [
    "res = stats.ttest_ind(df[df['Variant']== 'A'].purchase_TF, \n",
    "                      df[df['Variant']== 'B'].purchase_TF,\n",
    "                      equal_var='unequal', alternative='less')\n",
    "print(f'p-value for single sided test: {res.pvalue:.10f}')"
   ]
  },
  {
   "cell_type": "code",
   "execution_count": null,
   "id": "279a5043",
   "metadata": {},
   "outputs": [],
   "source": [
    "#Since p-value is very small, we reject the null hypothesis. \n",
    "#Therefore，alternative B improved conversion rates (site users book the property) over alternative A."
   ]
  },
  {
   "cell_type": "code",
   "execution_count": 106,
   "id": "ed18adc7",
   "metadata": {},
   "outputs": [],
   "source": [
    "df_A = df[df.Variant == 'A']"
   ]
  },
  {
   "cell_type": "code",
   "execution_count": 107,
   "id": "b76a7d0f",
   "metadata": {},
   "outputs": [],
   "source": [
    "df_A_T = df_A[df_A.purchase_TF == True]\n",
    "df_A_F = df_A[df_A.purchase_TF == False]"
   ]
  },
  {
   "cell_type": "code",
   "execution_count": 108,
   "id": "f998d1fe",
   "metadata": {},
   "outputs": [
    {
     "data": {
      "text/html": [
       "<div>\n",
       "<style scoped>\n",
       "    .dataframe tbody tr th:only-of-type {\n",
       "        vertical-align: middle;\n",
       "    }\n",
       "\n",
       "    .dataframe tbody tr th {\n",
       "        vertical-align: top;\n",
       "    }\n",
       "\n",
       "    .dataframe thead th {\n",
       "        text-align: right;\n",
       "    }\n",
       "</style>\n",
       "<table border=\"1\" class=\"dataframe\">\n",
       "  <thead>\n",
       "    <tr style=\"text-align: right;\">\n",
       "      <th></th>\n",
       "      <th>purchase_TF</th>\n",
       "      <th>Variant</th>\n",
       "      <th>date</th>\n",
       "      <th>id</th>\n",
       "    </tr>\n",
       "  </thead>\n",
       "  <tbody>\n",
       "    <tr>\n",
       "      <th>10</th>\n",
       "      <td>1</td>\n",
       "      <td>A</td>\n",
       "      <td>2019-08-15</td>\n",
       "      <td>0x7c0fef</td>\n",
       "    </tr>\n",
       "    <tr>\n",
       "      <th>19</th>\n",
       "      <td>1</td>\n",
       "      <td>A</td>\n",
       "      <td>2020-05-09</td>\n",
       "      <td>0x676bfc</td>\n",
       "    </tr>\n",
       "    <tr>\n",
       "      <th>22</th>\n",
       "      <td>1</td>\n",
       "      <td>A</td>\n",
       "      <td>2020-05-26</td>\n",
       "      <td>0x7d6cc8</td>\n",
       "    </tr>\n",
       "    <tr>\n",
       "      <th>37</th>\n",
       "      <td>1</td>\n",
       "      <td>A</td>\n",
       "      <td>2020-06-10</td>\n",
       "      <td>0x57faca</td>\n",
       "    </tr>\n",
       "    <tr>\n",
       "      <th>45</th>\n",
       "      <td>1</td>\n",
       "      <td>A</td>\n",
       "      <td>2020-02-01</td>\n",
       "      <td>0x67527f</td>\n",
       "    </tr>\n",
       "    <tr>\n",
       "      <th>...</th>\n",
       "      <td>...</td>\n",
       "      <td>...</td>\n",
       "      <td>...</td>\n",
       "      <td>...</td>\n",
       "    </tr>\n",
       "    <tr>\n",
       "      <th>129978</th>\n",
       "      <td>1</td>\n",
       "      <td>A</td>\n",
       "      <td>2019-10-29</td>\n",
       "      <td>0x3f5ff0</td>\n",
       "    </tr>\n",
       "    <tr>\n",
       "      <th>129980</th>\n",
       "      <td>1</td>\n",
       "      <td>A</td>\n",
       "      <td>2020-04-17</td>\n",
       "      <td>0x893f70</td>\n",
       "    </tr>\n",
       "    <tr>\n",
       "      <th>129982</th>\n",
       "      <td>1</td>\n",
       "      <td>A</td>\n",
       "      <td>2019-11-04</td>\n",
       "      <td>0x891175</td>\n",
       "    </tr>\n",
       "    <tr>\n",
       "      <th>129988</th>\n",
       "      <td>1</td>\n",
       "      <td>A</td>\n",
       "      <td>2020-02-10</td>\n",
       "      <td>0x964ba6</td>\n",
       "    </tr>\n",
       "    <tr>\n",
       "      <th>129989</th>\n",
       "      <td>1</td>\n",
       "      <td>A</td>\n",
       "      <td>2020-01-07</td>\n",
       "      <td>0x4a9e99</td>\n",
       "    </tr>\n",
       "  </tbody>\n",
       "</table>\n",
       "<p>18702 rows × 4 columns</p>\n",
       "</div>"
      ],
      "text/plain": [
       "        purchase_TF Variant        date        id\n",
       "10                1       A  2019-08-15  0x7c0fef\n",
       "19                1       A  2020-05-09  0x676bfc\n",
       "22                1       A  2020-05-26  0x7d6cc8\n",
       "37                1       A  2020-06-10  0x57faca\n",
       "45                1       A  2020-02-01  0x67527f\n",
       "...             ...     ...         ...       ...\n",
       "129978            1       A  2019-10-29  0x3f5ff0\n",
       "129980            1       A  2020-04-17  0x893f70\n",
       "129982            1       A  2019-11-04  0x891175\n",
       "129988            1       A  2020-02-10  0x964ba6\n",
       "129989            1       A  2020-01-07  0x4a9e99\n",
       "\n",
       "[18702 rows x 4 columns]"
      ]
     },
     "execution_count": 108,
     "metadata": {},
     "output_type": "execute_result"
    }
   ],
   "source": [
    "df_A_T"
   ]
  },
  {
   "cell_type": "code",
   "execution_count": 109,
   "id": "1cce9494",
   "metadata": {},
   "outputs": [],
   "source": [
    "#Conversion rate of A \n",
    "Con_A = (df_A_T.shape[0])/df_A.shape[0]"
   ]
  },
  {
   "cell_type": "code",
   "execution_count": 110,
   "id": "ceb5bd4e",
   "metadata": {},
   "outputs": [
    {
     "data": {
      "text/plain": [
       "0.149616"
      ]
     },
     "execution_count": 110,
     "metadata": {},
     "output_type": "execute_result"
    }
   ],
   "source": [
    "Con_A"
   ]
  },
  {
   "cell_type": "code",
   "execution_count": 111,
   "id": "0ea2d86d",
   "metadata": {},
   "outputs": [],
   "source": [
    "df_B = df[df.Variant == 'B']"
   ]
  },
  {
   "cell_type": "code",
   "execution_count": 112,
   "id": "9fc3ebfd",
   "metadata": {},
   "outputs": [
    {
     "data": {
      "text/html": [
       "<div>\n",
       "<style scoped>\n",
       "    .dataframe tbody tr th:only-of-type {\n",
       "        vertical-align: middle;\n",
       "    }\n",
       "\n",
       "    .dataframe tbody tr th {\n",
       "        vertical-align: top;\n",
       "    }\n",
       "\n",
       "    .dataframe thead th {\n",
       "        text-align: right;\n",
       "    }\n",
       "</style>\n",
       "<table border=\"1\" class=\"dataframe\">\n",
       "  <thead>\n",
       "    <tr style=\"text-align: right;\">\n",
       "      <th></th>\n",
       "      <th>purchase_TF</th>\n",
       "      <th>Variant</th>\n",
       "      <th>date</th>\n",
       "      <th>id</th>\n",
       "    </tr>\n",
       "  </thead>\n",
       "  <tbody>\n",
       "    <tr>\n",
       "      <th>1</th>\n",
       "      <td>0</td>\n",
       "      <td>B</td>\n",
       "      <td>2020-08-27</td>\n",
       "      <td>0x46271e</td>\n",
       "    </tr>\n",
       "    <tr>\n",
       "      <th>3</th>\n",
       "      <td>0</td>\n",
       "      <td>B</td>\n",
       "      <td>2020-08-22</td>\n",
       "      <td>0x8d736d</td>\n",
       "    </tr>\n",
       "    <tr>\n",
       "      <th>59</th>\n",
       "      <td>0</td>\n",
       "      <td>B</td>\n",
       "      <td>2020-08-19</td>\n",
       "      <td>0x3ff83f</td>\n",
       "    </tr>\n",
       "    <tr>\n",
       "      <th>74</th>\n",
       "      <td>0</td>\n",
       "      <td>B</td>\n",
       "      <td>2020-08-10</td>\n",
       "      <td>0x138d19</td>\n",
       "    </tr>\n",
       "    <tr>\n",
       "      <th>103</th>\n",
       "      <td>0</td>\n",
       "      <td>B</td>\n",
       "      <td>2020-08-04</td>\n",
       "      <td>0x966e6a</td>\n",
       "    </tr>\n",
       "    <tr>\n",
       "      <th>...</th>\n",
       "      <td>...</td>\n",
       "      <td>...</td>\n",
       "      <td>...</td>\n",
       "      <td>...</td>\n",
       "    </tr>\n",
       "    <tr>\n",
       "      <th>129805</th>\n",
       "      <td>0</td>\n",
       "      <td>B</td>\n",
       "      <td>2020-08-27</td>\n",
       "      <td>0x7d95d0</td>\n",
       "    </tr>\n",
       "    <tr>\n",
       "      <th>129827</th>\n",
       "      <td>0</td>\n",
       "      <td>B</td>\n",
       "      <td>2020-08-10</td>\n",
       "      <td>0x38a6e8</td>\n",
       "    </tr>\n",
       "    <tr>\n",
       "      <th>129879</th>\n",
       "      <td>0</td>\n",
       "      <td>B</td>\n",
       "      <td>2020-08-30</td>\n",
       "      <td>0x6a711a</td>\n",
       "    </tr>\n",
       "    <tr>\n",
       "      <th>129910</th>\n",
       "      <td>0</td>\n",
       "      <td>B</td>\n",
       "      <td>2020-08-13</td>\n",
       "      <td>0x13175a</td>\n",
       "    </tr>\n",
       "    <tr>\n",
       "      <th>129960</th>\n",
       "      <td>0</td>\n",
       "      <td>B</td>\n",
       "      <td>2020-08-02</td>\n",
       "      <td>0x8d0674</td>\n",
       "    </tr>\n",
       "  </tbody>\n",
       "</table>\n",
       "<p>5000 rows × 4 columns</p>\n",
       "</div>"
      ],
      "text/plain": [
       "        purchase_TF Variant        date        id\n",
       "1                 0       B  2020-08-27  0x46271e\n",
       "3                 0       B  2020-08-22  0x8d736d\n",
       "59                0       B  2020-08-19  0x3ff83f\n",
       "74                0       B  2020-08-10  0x138d19\n",
       "103               0       B  2020-08-04  0x966e6a\n",
       "...             ...     ...         ...       ...\n",
       "129805            0       B  2020-08-27  0x7d95d0\n",
       "129827            0       B  2020-08-10  0x38a6e8\n",
       "129879            0       B  2020-08-30  0x6a711a\n",
       "129910            0       B  2020-08-13  0x13175a\n",
       "129960            0       B  2020-08-02  0x8d0674\n",
       "\n",
       "[5000 rows x 4 columns]"
      ]
     },
     "execution_count": 112,
     "metadata": {},
     "output_type": "execute_result"
    }
   ],
   "source": [
    "df_B "
   ]
  },
  {
   "cell_type": "code",
   "execution_count": 113,
   "id": "1d91d847",
   "metadata": {},
   "outputs": [],
   "source": [
    "df_B_T = df_B[df_B.purchase_TF == True]"
   ]
  },
  {
   "cell_type": "code",
   "execution_count": 114,
   "id": "0d2443c8",
   "metadata": {},
   "outputs": [],
   "source": [
    "#Conversion rate of B \n",
    "Con_B = (df_B_T.shape[0])/df_B.shape[0]"
   ]
  },
  {
   "cell_type": "code",
   "execution_count": 115,
   "id": "46f978bc",
   "metadata": {},
   "outputs": [
    {
     "data": {
      "text/plain": [
       "0.1766"
      ]
     },
     "execution_count": 115,
     "metadata": {},
     "output_type": "execute_result"
    }
   ],
   "source": [
    "Con_B"
   ]
  },
  {
   "cell_type": "code",
   "execution_count": 116,
   "id": "91020ed4",
   "metadata": {},
   "outputs": [],
   "source": [
    "#Since Con_B > Con_A, alternative B improved conversion rates over alternative A."
   ]
  },
  {
   "cell_type": "markdown",
   "id": "a48433b9",
   "metadata": {},
   "source": [
    "# Q2"
   ]
  },
  {
   "cell_type": "markdown",
   "id": "55cae639",
   "metadata": {},
   "source": [
    "Calculate the optimal sample size "
   ]
  },
  {
   "cell_type": "code",
   "execution_count": null,
   "id": "6fbe6b01",
   "metadata": {},
   "outputs": [],
   "source": [
    "#95% confidence rate and test with 80% power\n",
    "# False positive type I error prob.=α"
   ]
  },
  {
   "cell_type": "code",
   "execution_count": 100,
   "id": "0b4a7f6c",
   "metadata": {},
   "outputs": [],
   "source": [
    "#optimal sample size\n",
    "alpha = 0.05\n",
    "beta = 1 - 0.8\n",
    "MDE = Con_B-Con_A\n",
    "Con_avg = (Con_A+Con_B)/2"
   ]
  },
  {
   "cell_type": "code",
   "execution_count": 101,
   "id": "9220c126",
   "metadata": {},
   "outputs": [],
   "source": [
    "import scipy.stats as stats\n",
    "z_alpha = abs(stats.norm.ppf(q = 0.05))  \n",
    "z_beta = abs(stats.norm.ppf(q = 0.8))  "
   ]
  },
  {
   "cell_type": "code",
   "execution_count": 94,
   "id": "00e76964",
   "metadata": {},
   "outputs": [
    {
     "data": {
      "text/plain": [
       "0.8416212335729143"
      ]
     },
     "execution_count": 94,
     "metadata": {},
     "output_type": "execute_result"
    }
   ],
   "source": [
    "z_alpha\n",
    "z_beta"
   ]
  },
  {
   "cell_type": "code",
   "execution_count": 102,
   "id": "1bed567c",
   "metadata": {},
   "outputs": [],
   "source": [
    "op_sample = ((z_alpha*math.sqrt(2*Con_avg*(1-Con_avg))+z_beta*math.sqrt(Con_A*(1-Con_A)+Con_B*(1-Con_B)))**2)*(1/(MDE**2))"
   ]
  },
  {
   "cell_type": "code",
   "execution_count": 103,
   "id": "ac7b93a2",
   "metadata": {},
   "outputs": [
    {
     "data": {
      "text/plain": [
       "2317.0427404559846"
      ]
     },
     "execution_count": 103,
     "metadata": {},
     "output_type": "execute_result"
    }
   ],
   "source": [
    "op_sample"
   ]
  },
  {
   "cell_type": "markdown",
   "id": "7fa424a3",
   "metadata": {},
   "source": [
    "Conduct test 10 times"
   ]
  },
  {
   "cell_type": "code",
   "execution_count": null,
   "id": "ecdc92b6",
   "metadata": {},
   "outputs": [],
   "source": [
    "# H0: P_A = P_B\n",
    "# H1: P_A < P_B"
   ]
  },
  {
   "cell_type": "code",
   "execution_count": 121,
   "id": "dd100124",
   "metadata": {},
   "outputs": [
    {
     "name": "stdout",
     "output_type": "stream",
     "text": [
      "The p-value for test_0 is 0.017901:\n",
      "The p-value for test_1 is 0.005302:\n",
      "The p-value for test_2 is 0.200816:\n",
      "The p-value for test_3 is 0.001849:\n",
      "The p-value for test_4 is 0.000996:\n",
      "The p-value for test_5 is 0.010904:\n",
      "The p-value for test_6 is 0.083309:\n",
      "The p-value for test_7 is 0.000780:\n",
      "The p-value for test_8 is 0.015543:\n",
      "The p-value for test_9 is 0.006150:\n"
     ]
    }
   ],
   "source": [
    "for i in range(10):\n",
    "    sample_A = df_A.sample(n = math.ceil(op_sample), random_state = i)\n",
    "    sample_B = df_B.sample(n = math.ceil(op_sample), random_state = i)\n",
    "    res = stats.ttest_ind(sample_A[sample_A['Variant']== 'A'].purchase_TF, \n",
    "                      sample_B[sample_B['Variant']== 'B'].purchase_TF,\n",
    "                      equal_var='unequal', alternative='less')\n",
    "    print(\"The p-value for test_%d is %f:\" %(i, res.pvalue))"
   ]
  },
  {
   "cell_type": "code",
   "execution_count": null,
   "id": "038d48ef",
   "metadata": {},
   "outputs": [],
   "source": [
    "# Since the confidence level is 95%, when p-value < 0.05, then we can reject the null hypothesis in 95% confidence level.\n",
    "# Therefore, there are 2 hypothesis tests which cannot reject null hypothsis. \n",
    "# The rest of the tests reject the null hypothesis."
   ]
  },
  {
   "cell_type": "markdown",
   "id": "1eeb85c3",
   "metadata": {},
   "source": [
    "# Q3"
   ]
  },
  {
   "cell_type": "code",
   "execution_count": 163,
   "id": "cb0954be",
   "metadata": {},
   "outputs": [
    {
     "name": "stdout",
     "output_type": "stream",
     "text": [
      "344 Reject H0\n",
      "502 Reject H0\n",
      "N/A\n",
      "1494 Reject H0\n",
      "1275 Reject H0\n",
      "564 Reject H0\n",
      "N/A\n",
      "273 Accept H0\n",
      "268 Accept H0\n",
      "532 Reject H0\n",
      "[344, 502, 1494, 1275, 564, 273, 268, 532]\n"
     ]
    }
   ],
   "source": [
    "n_list = []\n",
    "for i in range(10):\n",
    "    alpha = 0.05\n",
    "    beta = 0.2\n",
    "    ln_A = math.log(1/alpha)\n",
    "    ln_B = math.log(beta)\n",
    "    #print(ln_B)\n",
    "    sample_A = df_A.sample(n = math.ceil(op_sample), random_state = i)\n",
    "    sample_B = df_B.sample(n = math.ceil(op_sample), random_state = i)\n",
    "    sample_A = sample_A.reset_index(drop = True)\n",
    "    sample_B = sample_B.reset_index(drop = True)\n",
    "    Con_A = sum(sample_A['purchase_TF'])/sample_A.shape[0]\n",
    "    Con_B = sum(sample_B['purchase_TF'])/sample_B.shape[0]\n",
    "    #print(Con_A)\n",
    "    ln_lambda_n = 0\n",
    "    for n in range(math.ceil(op_sample)):\n",
    "        if sample_B.iloc[n][\"purchase_TF\"] == 1:\n",
    "            ln_lambda_a = math.log(Con_B/Con_A)\n",
    "            #print(ln_lambda_n)\n",
    "        else:\n",
    "            ln_lambda_a = math.log((1-Con_B)/(1-Con_A))\n",
    "            \n",
    "        ln_lambda_n = ln_lambda_n + ln_lambda_a\n",
    "        \n",
    "        if ln_lambda_n <= ln_B:\n",
    "            n_list.append(n)\n",
    "            print(str(n) + \" \" + \"Accept H0\")\n",
    "            break\n",
    "        \n",
    "        if ln_lambda_n >= ln_A:\n",
    "            n_list.append(n)\n",
    "            print(str(n) + \" \" + \"Reject H0\")\n",
    "            break\n",
    "        \n",
    "        if (n == (math.ceil(op_sample-1))  and (ln_lambda_n < ln_A and ln_lambda_n > ln_B)):\n",
    "            print(\"N/A\")\n",
    "        \n",
    "print(n_list)"
   ]
  },
  {
   "cell_type": "code",
   "execution_count": 164,
   "id": "6a906594",
   "metadata": {},
   "outputs": [],
   "source": [
    "avg_iterations = sum(n_list)/len(n_list)"
   ]
  },
  {
   "cell_type": "code",
   "execution_count": 165,
   "id": "bf77f26b",
   "metadata": {},
   "outputs": [
    {
     "data": {
      "text/plain": [
       "656.5"
      ]
     },
     "execution_count": 165,
     "metadata": {},
     "output_type": "execute_result"
    }
   ],
   "source": [
    "avg_iterations"
   ]
  },
  {
   "cell_type": "code",
   "execution_count": null,
   "id": "dbf9f6b1",
   "metadata": {},
   "outputs": [],
   "source": []
  },
  {
   "cell_type": "code",
   "execution_count": null,
   "id": "e0f6d2bc",
   "metadata": {},
   "outputs": [],
   "source": []
  }
 ],
 "metadata": {
  "kernelspec": {
   "display_name": "Python 3",
   "language": "python",
   "name": "python3"
  },
  "language_info": {
   "codemirror_mode": {
    "name": "ipython",
    "version": 3
   },
   "file_extension": ".py",
   "mimetype": "text/x-python",
   "name": "python",
   "nbconvert_exporter": "python",
   "pygments_lexer": "ipython3",
   "version": "3.8.8"
  }
 },
 "nbformat": 4,
 "nbformat_minor": 5
}
